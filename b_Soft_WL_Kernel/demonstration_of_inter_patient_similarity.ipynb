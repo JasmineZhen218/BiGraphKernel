{
 "cells": [
  {
   "cell_type": "code",
   "execution_count": 1,
   "metadata": {},
   "outputs": [],
   "source": [
    "import os\n",
    "import sys\n",
    "sys.path.append(\"./..\")\n",
    "from utils import PROJECT_ROOT\n",
    "from definitions import get_cell_color\n",
    "import pandas as pd\n",
    "import numpy as np\n",
    "import matplotlib.pyplot as plt\n",
    "import networkx as nx"
   ]
  },
  {
   "cell_type": "code",
   "execution_count": 2,
   "metadata": {},
   "outputs": [],
   "source": [
    "iteration = 2\n",
    "PhenoGraoh_k =  100"
   ]
  },
  {
   "cell_type": "code",
   "execution_count": null,
   "metadata": {},
   "outputs": [],
   "source": [
    "def get_pos(G):\n",
    "    x = nx.get_node_attributes(G, \"X\")\n",
    "    y = nx.get_node_attributes(G, \"Y\")\n",
    "    pos = {}\n",
    "    for key, _ in x.items():\n",
    "        pos[key] = (x[key], y[key])\n",
    "    return pos"
   ]
  },
  {
   "cell_type": "code",
   "execution_count": 3,
   "metadata": {},
   "outputs": [],
   "source": [
    "template_patient_id = 882\n",
    "template_image_id = 50"
   ]
  },
  {
   "cell_type": "markdown",
   "metadata": {},
   "source": [
    "### Template_patient"
   ]
  },
  {
   "cell_type": "code",
   "execution_count": null,
   "metadata": {},
   "outputs": [],
   "source": [
    "cells_ = pd.read_csv(\n",
    "    os.path.join(PROJECT_ROOT, \"Input\", \"Single-cell\", \"Danenberg\",\n",
    "    \"patient_{}_image_{}.csv\".format(template_patient_id, template_image_id))\n",
    ")\n",
    "Adj = np.load(\n",
    "    os.path.join(PROJECT_ROOT, \"Output\", \"a_Cellular_graph\", \"Danenberg\", \"Cohort_1\",\n",
    "    \"patient_{}_image_{}\".format(template_patient_id, template_image_id),\n",
    "    \"Adj.npy\")\n",
    ")\n",
    "print(f\"{len(cells_)} cells in image {template_image_id} of patient {template_patient_id}\")"
   ]
  },
  {
   "cell_type": "code",
   "execution_count": null,
   "metadata": {},
   "outputs": [],
   "source": [
    "Adj[Adj < 0.01] = 0\n",
    "np.fill_diagonal(Adj, 0)\n",
    "G = nx.from_numpy_array(Adj)\n",
    "nx.set_node_attributes(G, cells_[\"X\"], \"X\")\n",
    "nx.set_node_attributes(G, cells_[\"Y\"], \"Y\")\n",
    "nx.set_node_attributes(G, cells_[\"cell_type\"], \"cell_type\")\n",
    "f, ax = plt.subplots(\n",
    "        1,\n",
    "        1,\n",
    "        figsize=(6, 6),\n",
    "        tight_layout=True,\n",
    "    )\n",
    "cell_color_dict = get_cell_color('Danenberg')\n",
    "nx.draw_networkx_nodes(\n",
    "        G,\n",
    "        get_pos(G),\n",
    "        node_size=20,\n",
    "        node_color=[cell_color_dict[cell_type] for cell_type in list(nx.get_node_attributes(G, \"cell_type\").values())],\n",
    "        edgecolors=\"black\",\n",
    "        linewidths=0.5,\n",
    "        ax=ax,\n",
    "    )\n",
    "nx.draw_networkx_edges(G, get_pos(G), ax=ax, alpha=0.3, width = 1)\n",
    "ax.set(\n",
    "        xlim=(\n",
    "            (max(cells_[\"X\"]) - min(cells_[\"X\"])) / 2\n",
    "            - 350 ,\n",
    "            (max(cells_[\"X\"]) - min(cells_[\"X\"])) / 2\n",
    "            + 350,\n",
    "        ),\n",
    "        ylim=(\n",
    "            (max(cells_[\"Y\"]) - min(cells_[\"Y\"])) / 2\n",
    "            - 350 ,\n",
    "            (max(cells_[\"Y\"]) - min(cells_[\"Y\"])) / 2\n",
    "            + 350,\n",
    "        ),\n",
    "    )\n",
    "ax.set_axis_off()\n"
   ]
  }
 ],
 "metadata": {
  "kernelspec": {
   "display_name": "cell-gnn",
   "language": "python",
   "name": "python3"
  },
  "language_info": {
   "codemirror_mode": {
    "name": "ipython",
    "version": 3
   },
   "file_extension": ".py",
   "mimetype": "text/x-python",
   "name": "python",
   "nbconvert_exporter": "python",
   "pygments_lexer": "ipython3",
   "version": "3.8.10"
  }
 },
 "nbformat": 4,
 "nbformat_minor": 2
}
