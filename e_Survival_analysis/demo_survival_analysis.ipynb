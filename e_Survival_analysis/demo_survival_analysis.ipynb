{
 "cells": [
  {
   "cell_type": "code",
   "execution_count": 46,
   "metadata": {},
   "outputs": [],
   "source": [
    "import os\n",
    "import sys\n",
    "sys.path.append(\"./..\")\n",
    "from utils import PROJECT_ROOT\n",
    "import numpy as np\n",
    "import matplotlib.pyplot as plt\n",
    "import seaborn as sns\n",
    "import pickle\n",
    "import networkx as nx\n",
    "from matplotlib.lines import Line2D\n",
    "import pandas as pd\n",
    "from c_Population_graph.population_graph import construct_PopulationGraph\n",
    "from c_Population_graph.community_detection import detect_communities\n",
    "from survival_analysis import calculate_hazard_ratio\n",
    "from lifelines import CoxPHFitter, KaplanMeierFitter\n",
    "from lifelines.statistics import multivariate_logrank_test"
   ]
  },
  {
   "cell_type": "code",
   "execution_count": 47,
   "metadata": {},
   "outputs": [],
   "source": [
    "iteration = 2\n",
    "PhenoGraph_k =  100\n",
    "size_smallest_cluster = 20"
   ]
  },
  {
   "cell_type": "code",
   "execution_count": 48,
   "metadata": {},
   "outputs": [],
   "source": [
    "SoftWL_dict= pickle.load(\n",
    "    open(\n",
    "        os.path.join(\n",
    "            PROJECT_ROOT,\n",
    "            \"Output\",\n",
    "            \"b_Soft_WL_Kernel\",\n",
    "            \"Danenberg\",\n",
    "            \"Cohort_1\",\n",
    "            \"SoftWL_dict_iter_\"\n",
    "            + str(iteration)\n",
    "            + \"_PhenoGraph_k_\"\n",
    "            + str(PhenoGraph_k)\n",
    "            + \".pkl\",\n",
    "        ),\n",
    "        \"rb\",\n",
    "    ),\n",
    ")\n",
    "Patient_IDs = SoftWL_dict[\"Patient_id\"]\n",
    "Gram_matrix = SoftWL_dict[\"Gram_matrix\"]\n",
    "Histograms = SoftWL_dict[\"Histogram\"]\n",
    "clinical = pd.read_csv(\n",
    "    os.path.join(\n",
    "        PROJECT_ROOT,\n",
    "        \"Input\",\n",
    "        \"Clinical\",\n",
    "        \"Danenberg\",\n",
    "        \"clinical.csv\",\n",
    "    )\n",
    ")\n"
   ]
  },
  {
   "cell_type": "code",
   "execution_count": 38,
   "metadata": {},
   "outputs": [],
   "source": [
    "PopulationGraph_type = 'complete_graph_with_weak_edges_removed'\n",
    "para_dict = {\n",
    "    'weight_threshold_percentile': 50,\n",
    "}\n",
    "G_population = construct_PopulationGraph(\n",
    "    Gram_matrix,\n",
    "    PopulationGraph_type,\n",
    "    para_dict = para_dict,\n",
    ")\n",
    "Community_ids = detect_communities(G_population, size_smallest_cluster)"
   ]
  },
  {
   "cell_type": "markdown",
   "metadata": {},
   "source": [
    "### Calculate hazard"
   ]
  },
  {
   "cell_type": "code",
   "execution_count": 39,
   "metadata": {},
   "outputs": [
    {
     "name": "stdout",
     "output_type": "stream",
     "text": [
      "Community 1:\n",
      "Overall survival: hr = 1.1714501064219227, p = 0.17030912686815813\n",
      "Relapse free survival: hr = 1.1532837948092662, p = 0.21803584077462188\n",
      "Disease-specific survival: hr = 1.1297332392070318, p = 0.25760684680798096\n",
      "Community 2:\n",
      "Overall survival: hr = 0.8148961770304981, p = 0.105190162568615\n",
      "Relapse free survival: hr = 0.9579827127789143, p = 0.7315676027486688\n",
      "Disease-specific survival: hr = 0.8517692845675121, p = 0.1714440089538841\n",
      "Community 3:\n",
      "Overall survival: hr = 0.8272419536631732, p = 0.1442602643366891\n",
      "Relapse free survival: hr = 0.7612201169196416, p = 0.03554206365264364\n",
      "Disease-specific survival: hr = 0.8329843761548444, p = 0.1268731544025327\n",
      "Community 4:\n",
      "Overall survival: hr = 1.1058602538647162, p = 0.4954061415856592\n",
      "Relapse free survival: hr = 0.9419778243970092, p = 0.6879941409227226\n",
      "Disease-specific survival: hr = 1.0325220866964433, p = 0.8185734208788927\n",
      "Community 5:\n",
      "Overall survival: hr = 1.1888794603051744, p = 0.27862481339177025\n",
      "Relapse free survival: hr = 1.2881984094426917, p = 0.11520723169933315\n",
      "Disease-specific survival: hr = 1.2664595206678453, p = 0.1123376136048292\n"
     ]
    }
   ],
   "source": [
    "clinical['Overall Survival Status'] = clinical['Overall Survival Status'].map({'0:LIVING':0, '1:DECEASED':1})\n",
    "clinical['Relapse Free Status Status'] = clinical['Relapse Free Status'].map({'0:Not Recurred':0, '1:Recurred':1})\n",
    "clinical['Disease-specific Survival Status'] = clinical['Disease-specific Survival Status'].map({'0:LIVING':0, '1:DECEASED':1})\n",
    "Length_OS = [clinical.loc[clinical['patient_id'] == i, 'Overall Survival (Months)'].values[0] for i in Patient_IDs]\n",
    "Status_OS = [clinical.loc[clinical['patient_id'] == i, 'Overall Survival Status'].values[0] for i in Patient_IDs]\n",
    "Length_RFS = [clinical.loc[clinical['patient_id'] == i, 'Relapse Free Status (Months)'].values[0] for i in Patient_IDs]\n",
    "Status_RFS = [clinical.loc[clinical['patient_id'] == i, 'Relapse Free Status'].values[0] for i in Patient_IDs]\n",
    "Length_DSS = [clinical.loc[clinical['patient_id'] == i, 'Disease-specific Survival (Months)'].values[0] for i in Patient_IDs]\n",
    "Status_DSS = [clinical.loc[clinical['patient_id'] == i, 'Disease-specific Survival Status'].values[0] for i in Patient_IDs]\n",
    "HR_OS = calculate_hazard_ratio(Length_OS, Length_OS, Community_ids)\n",
    "HR_RFS = calculate_hazard_ratio(Length_RFS, Length_RFS, Community_ids)\n",
    "HR_DSS = calculate_hazard_ratio(Length_DSS, Length_DSS, Community_ids)\n",
    "for i in range(len(HR_OS)):\n",
    "    print(\"Community {}:\".format(i+1))\n",
    "    print(\"Overall survival: hr = {}, p = {}\".format(HR_OS[i]['hr'], HR_OS[i]['p']))\n",
    "    print(\"Relapse free survival: hr = {}, p = {}\".format(HR_RFS[i]['hr'], HR_RFS[i]['p']))\n",
    "    print(\"Disease-specific survival: hr = {}, p = {}\".format(HR_DSS[i]['hr'], HR_DSS[i]['p']))"
   ]
  },
  {
   "cell_type": "markdown",
   "metadata": {},
   "source": [
    "### Reorder Communities based on Hazard"
   ]
  },
  {
   "cell_type": "code",
   "execution_count": 40,
   "metadata": {},
   "outputs": [],
   "source": [
    "HR = HR_DSS\n",
    "Length = Length_DSS\n",
    "Status = Status_DSS\n",
    "HR = sorted(HR, key=lambda x: x[\"hr\"], reverse=True)\n",
    "Subgroup_ids = np.zeros_like(Community_ids)\n",
    "for i in range(len(HR)):\n",
    "    Subgroup_ids[Community_ids == HR[i]['community_id']] = i+1\n",
    "    HR[i]['subgroup_id'] = i+1"
   ]
  },
  {
   "cell_type": "markdown",
   "metadata": {},
   "source": [
    "### Plot hazard"
   ]
  },
  {
   "cell_type": "code",
   "execution_count": 41,
   "metadata": {},
   "outputs": [
    {
     "data": {
      "image/png": "[encoded data removed]",
      "text/plain": [
       "<Figure size 800x300 with 2 Axes>"
      ]
     },
     "metadata": {},
     "output_type": "display_data"
    }
   ],
   "source": [
    "# Plot hazard ratio\n",
    "color_palette = [\n",
    "    sns.color_palette(\"tab10\")[3],\n",
    "    sns.color_palette(\"tab10\")[6],\n",
    "    sns.color_palette(\"tab10\")[4],\n",
    "    sns.color_palette(\"tab10\")[5],\n",
    "    sns.color_palette(\"tab10\")[1],\n",
    "    sns.color_palette(\"Set2\")[-3],\n",
    "    sns.color_palette(\"tab10\")[-1],\n",
    "    sns.color_palette(\"tab10\")[0],\n",
    "    sns.color_palette(\"tab10\")[2],\n",
    "]\n",
    "f, ax = plt.subplots(2, 1, height_ratios=[5, 1], figsize=(8, 3), sharex=True)\n",
    "f.subplots_adjust(hspace=0)\n",
    "ax[0].hlines(1, -1, len(HR), color=\"k\", linestyle=\"--\")\n",
    "N, xticklabels, xtickcolors = [], [], []\n",
    "\n",
    "unique_subgroup_ids = np.unique(Subgroup_ids)\n",
    "for i in range(len(HR)):\n",
    "    hr_dict = HR[i]\n",
    "    subgroup_id = hr_dict['subgroup_id']\n",
    "    hr, hr_lb, hr_ub, p = (\n",
    "            hr_dict[\"hr\"],\n",
    "            hr_dict[\"hr_lower\"],\n",
    "            hr_dict[\"hr_upper\"],\n",
    "            hr_dict[\"p\"],\n",
    "        )\n",
    "    ax[0].plot([i, i], [hr_lb, hr_ub], color=color_palette[i], linewidth=2)\n",
    "    ax[0].scatter([i], [hr], color=color_palette[i], s=120)\n",
    "    ax[0].scatter([i], [hr_lb], color=color_palette[i], s=60, marker=\"_\")\n",
    "    ax[0].scatter([i], [hr_ub], color=color_palette[i], s=60, marker=\"_\")\n",
    "    N.append(np.sum(Subgroup_ids == subgroup_id))\n",
    "    xticklabels.append(\"S{}\".format(int(subgroup_id)))\n",
    "    if p < 0.05:\n",
    "        xtickcolors.append(\"k\")\n",
    "    else:\n",
    "        xtickcolors.append(\"grey\")\n",
    "ax[0].set_xticks(range(len(HR)))\n",
    "ax[0].set_xticklabels(xticklabels)\n",
    "for xtick, color in zip(ax[1].get_xticklabels(), xtickcolors):\n",
    "    xtick.set_color(color)\n",
    "ax[0].set_xlabel(\"Patient Subgroups\")\n",
    "ax[0].set_ylabel(\"Hazard ratio\")\n",
    "ax[0].set_yscale(\"log\")\n",
    "# ax[1].set_title(\"Hazard ratios of Patient Subgroups\")\n",
    "DF = pd.DataFrame({\"N\": N, \"subgroup_id\": xticklabels})\n",
    "g = sns.barplot(data=DF, x=\"subgroup_id\", y=\"N\", palette=color_palette, ax=ax[1])\n",
    "g.invert_yaxis()\n",
    "ax[1].set_ylabel(\"Size\")\n",
    "ax[1].set_xlabel(\"\")\n",
    "plt.show()"
   ]
  },
  {
   "cell_type": "markdown",
   "metadata": {},
   "source": [
    "### Plot Survival"
   ]
  },
  {
   "cell_type": "code",
   "execution_count": 37,
   "metadata": {},
   "outputs": [
    {
     "ename": "TypeError",
     "evalue": "NaNs were detected in the dataset. Try using pd.isnull to find the problematic values.",
     "output_type": "error",
     "traceback": [
      "\u001b[0;31m---------------------------------------------------------------------------\u001b[0m",
      "\u001b[0;31mTypeError\u001b[0m                                 Traceback (most recent call last)",
      "\u001b[1;32m/cis/home/zwang/Projects/BiGraph/e_Survival_analysis/demo_survival_analysis.ipynb Cell 12\u001b[0m line \u001b[0;36m1\n\u001b[1;32m      <a href='vscode-notebook-cell://ssh-remote%2Bio86/cis/home/zwang/Projects/BiGraph/e_Survival_analysis/demo_survival_analysis.ipynb#X10sdnNjb2RlLXJlbW90ZQ%3D%3D?line=6'>7</a>\u001b[0m     length_A, event_observed_A \u001b[39m=\u001b[39m (\n\u001b[1;32m      <a href='vscode-notebook-cell://ssh-remote%2Bio86/cis/home/zwang/Projects/BiGraph/e_Survival_analysis/demo_survival_analysis.ipynb#X10sdnNjb2RlLXJlbW90ZQ%3D%3D?line=7'>8</a>\u001b[0m             Length[Subgroup_ids \u001b[39m==\u001b[39m subgroup_id],\n\u001b[1;32m      <a href='vscode-notebook-cell://ssh-remote%2Bio86/cis/home/zwang/Projects/BiGraph/e_Survival_analysis/demo_survival_analysis.ipynb#X10sdnNjb2RlLXJlbW90ZQ%3D%3D?line=8'>9</a>\u001b[0m             Status[Subgroup_ids \u001b[39m==\u001b[39m subgroup_id],\n\u001b[1;32m     <a href='vscode-notebook-cell://ssh-remote%2Bio86/cis/home/zwang/Projects/BiGraph/e_Survival_analysis/demo_survival_analysis.ipynb#X10sdnNjb2RlLXJlbW90ZQ%3D%3D?line=9'>10</a>\u001b[0m         )\n\u001b[1;32m     <a href='vscode-notebook-cell://ssh-remote%2Bio86/cis/home/zwang/Projects/BiGraph/e_Survival_analysis/demo_survival_analysis.ipynb#X10sdnNjb2RlLXJlbW90ZQ%3D%3D?line=10'>11</a>\u001b[0m     label \u001b[39m=\u001b[39m \u001b[39m\"\u001b[39m\u001b[39mS\u001b[39m\u001b[39m{}\u001b[39;00m\u001b[39m (N=\u001b[39m\u001b[39m{}\u001b[39;00m\u001b[39m)\u001b[39m\u001b[39m\"\u001b[39m\u001b[39m.\u001b[39mformat(hr_dict[\u001b[39m\"\u001b[39m\u001b[39msubgroup_id\u001b[39m\u001b[39m\"\u001b[39m], np\u001b[39m.\u001b[39msum(Subgroup_ids \u001b[39m==\u001b[39m subgroup_id))\n\u001b[0;32m---> <a href='vscode-notebook-cell://ssh-remote%2Bio86/cis/home/zwang/Projects/BiGraph/e_Survival_analysis/demo_survival_analysis.ipynb#X10sdnNjb2RlLXJlbW90ZQ%3D%3D?line=11'>12</a>\u001b[0m     kmf\u001b[39m.\u001b[39;49mfit(length_A, event_observed_A, label\u001b[39m=\u001b[39;49mlabel)\n\u001b[1;32m     <a href='vscode-notebook-cell://ssh-remote%2Bio86/cis/home/zwang/Projects/BiGraph/e_Survival_analysis/demo_survival_analysis.ipynb#X10sdnNjb2RlLXJlbW90ZQ%3D%3D?line=12'>13</a>\u001b[0m     kmf\u001b[39m.\u001b[39mplot_survival_function(ax\u001b[39m=\u001b[39max, ci_show\u001b[39m=\u001b[39m\u001b[39mFalse\u001b[39;00m, color\u001b[39m=\u001b[39mcolor_palette[i],\n\u001b[1;32m     <a href='vscode-notebook-cell://ssh-remote%2Bio86/cis/home/zwang/Projects/BiGraph/e_Survival_analysis/demo_survival_analysis.ipynb#X10sdnNjb2RlLXJlbW90ZQ%3D%3D?line=13'>14</a>\u001b[0m     show_censors\u001b[39m=\u001b[39m\u001b[39mTrue\u001b[39;00m,\n\u001b[1;32m     <a href='vscode-notebook-cell://ssh-remote%2Bio86/cis/home/zwang/Projects/BiGraph/e_Survival_analysis/demo_survival_analysis.ipynb#X10sdnNjb2RlLXJlbW90ZQ%3D%3D?line=14'>15</a>\u001b[0m             censor_styles\u001b[39m=\u001b[39m{\u001b[39m\"\u001b[39m\u001b[39mms\u001b[39m\u001b[39m\"\u001b[39m: \u001b[39m3\u001b[39m, \u001b[39m\"\u001b[39m\u001b[39mmarker\u001b[39m\u001b[39m\"\u001b[39m: \u001b[39m\"\u001b[39m\u001b[39ms\u001b[39m\u001b[39m\"\u001b[39m})\n\u001b[1;32m     <a href='vscode-notebook-cell://ssh-remote%2Bio86/cis/home/zwang/Projects/BiGraph/e_Survival_analysis/demo_survival_analysis.ipynb#X10sdnNjb2RlLXJlbW90ZQ%3D%3D?line=15'>16</a>\u001b[0m log_rank_test  \u001b[39m=\u001b[39m multivariate_logrank_test(\n\u001b[1;32m     <a href='vscode-notebook-cell://ssh-remote%2Bio86/cis/home/zwang/Projects/BiGraph/e_Survival_analysis/demo_survival_analysis.ipynb#X10sdnNjb2RlLXJlbW90ZQ%3D%3D?line=16'>17</a>\u001b[0m         Length[Subgroup_ids\u001b[39m!=\u001b[39m\u001b[39m0\u001b[39m], Subgroup_ids[Subgroup_ids\u001b[39m!=\u001b[39m\u001b[39m0\u001b[39m],Status[Subgroup_ids\u001b[39m!=\u001b[39m\u001b[39m0\u001b[39m]\n\u001b[1;32m     <a href='vscode-notebook-cell://ssh-remote%2Bio86/cis/home/zwang/Projects/BiGraph/e_Survival_analysis/demo_survival_analysis.ipynb#X10sdnNjb2RlLXJlbW90ZQ%3D%3D?line=17'>18</a>\u001b[0m     )\n",
      "File \u001b[0;32m~/venv/cell-gnn/lib/python3.8/site-packages/lifelines/utils/__init__.py:56\u001b[0m, in \u001b[0;36mCensoringType.right_censoring.<locals>.f\u001b[0;34m(model, *args, **kwargs)\u001b[0m\n\u001b[1;32m     53\u001b[0m \u001b[39m@wraps\u001b[39m(function)\n\u001b[1;32m     54\u001b[0m \u001b[39mdef\u001b[39;00m \u001b[39mf\u001b[39m(model, \u001b[39m*\u001b[39margs, \u001b[39m*\u001b[39m\u001b[39m*\u001b[39mkwargs):\n\u001b[1;32m     55\u001b[0m     \u001b[39mcls\u001b[39m\u001b[39m.\u001b[39mset_censoring_type(model, \u001b[39mcls\u001b[39m\u001b[39m.\u001b[39mRIGHT)\n\u001b[0;32m---> 56\u001b[0m     \u001b[39mreturn\u001b[39;00m function(model, \u001b[39m*\u001b[39;49margs, \u001b[39m*\u001b[39;49m\u001b[39m*\u001b[39;49mkwargs)\n",
      "File \u001b[0;32m~/venv/cell-gnn/lib/python3.8/site-packages/lifelines/fitters/kaplan_meier_fitter.py:127\u001b[0m, in \u001b[0;36mKaplanMeierFitter.fit\u001b[0;34m(self, durations, event_observed, timeline, entry, label, alpha, ci_labels, weights, fit_options)\u001b[0m\n\u001b[1;32m     80\u001b[0m \u001b[39m@CensoringType\u001b[39m\u001b[39m.\u001b[39mright_censoring\n\u001b[1;32m     81\u001b[0m \u001b[39mdef\u001b[39;00m \u001b[39mfit\u001b[39m(\n\u001b[1;32m     82\u001b[0m     \u001b[39mself\u001b[39m,\n\u001b[0;32m   (...)\u001b[0m\n\u001b[1;32m     91\u001b[0m     fit_options\u001b[39m=\u001b[39m\u001b[39mNone\u001b[39;00m,\n\u001b[1;32m     92\u001b[0m ):  \u001b[39m# pylint: disable=too-many-arguments,too-many-locals\u001b[39;00m\n\u001b[1;32m     93\u001b[0m \u001b[39m    \u001b[39m\u001b[39m\"\"\"\u001b[39;00m\n\u001b[1;32m     94\u001b[0m \u001b[39m    Fit the model to a right-censored dataset\u001b[39;00m\n\u001b[1;32m     95\u001b[0m \n\u001b[0;32m   (...)\u001b[0m\n\u001b[1;32m    124\u001b[0m \n\u001b[1;32m    125\u001b[0m \u001b[39m    \"\"\"\u001b[39;00m\n\u001b[0;32m--> 127\u001b[0m     \u001b[39mreturn\u001b[39;00m \u001b[39mself\u001b[39;49m\u001b[39m.\u001b[39;49m_fit(durations, event_observed, timeline, entry, label, alpha, ci_labels, weights)\n",
      "File \u001b[0;32m~/venv/cell-gnn/lib/python3.8/site-packages/lifelines/fitters/kaplan_meier_fitter.py:331\u001b[0m, in \u001b[0;36mKaplanMeierFitter._fit\u001b[0;34m(self, durations, event_observed, timeline, entry, label, alpha, ci_labels, weights)\u001b[0m\n\u001b[1;32m    329\u001b[0m \u001b[39mif\u001b[39;00m event_observed \u001b[39mis\u001b[39;00m \u001b[39mnot\u001b[39;00m \u001b[39mNone\u001b[39;00m:\n\u001b[1;32m    330\u001b[0m     event_observed \u001b[39m=\u001b[39m np\u001b[39m.\u001b[39masarray(event_observed)\n\u001b[0;32m--> 331\u001b[0m     \u001b[39mself\u001b[39;49m\u001b[39m.\u001b[39;49m_check_values(event_observed)\n\u001b[1;32m    333\u001b[0m \u001b[39mself\u001b[39m\u001b[39m.\u001b[39m_label \u001b[39m=\u001b[39m coalesce(label, \u001b[39mself\u001b[39m\u001b[39m.\u001b[39m_label, \u001b[39m\"\u001b[39m\u001b[39mKM_estimate\u001b[39m\u001b[39m\"\u001b[39m)\n\u001b[1;32m    335\u001b[0m \u001b[39mif\u001b[39;00m weights \u001b[39mis\u001b[39;00m \u001b[39mnot\u001b[39;00m \u001b[39mNone\u001b[39;00m:\n",
      "File \u001b[0;32m~/venv/cell-gnn/lib/python3.8/site-packages/lifelines/fitters/kaplan_meier_fitter.py:403\u001b[0m, in \u001b[0;36mKaplanMeierFitter._check_values\u001b[0;34m(self, array)\u001b[0m\n\u001b[1;32m    402\u001b[0m \u001b[39mdef\u001b[39;00m \u001b[39m_check_values\u001b[39m(\u001b[39mself\u001b[39m, array):\n\u001b[0;32m--> 403\u001b[0m     check_nans_or_infs(array)\n",
      "File \u001b[0;32m~/venv/cell-gnn/lib/python3.8/site-packages/lifelines/utils/__init__.py:1178\u001b[0m, in \u001b[0;36mcheck_nans_or_infs\u001b[0;34m(df_or_array)\u001b[0m\n\u001b[1;32m   1175\u001b[0m     \u001b[39mreturn\u001b[39;00m check_nans_or_infs(df_or_array\u001b[39m.\u001b[39mvalues)\n\u001b[1;32m   1177\u001b[0m \u001b[39mif\u001b[39;00m pd\u001b[39m.\u001b[39misnull(df_or_array)\u001b[39m.\u001b[39many():\n\u001b[0;32m-> 1178\u001b[0m     \u001b[39mraise\u001b[39;00m \u001b[39mTypeError\u001b[39;00m(\u001b[39m\"\u001b[39m\u001b[39mNaNs were detected in the dataset. Try using pd.isnull to find the problematic values.\u001b[39m\u001b[39m\"\u001b[39m)\n\u001b[1;32m   1180\u001b[0m \u001b[39mtry\u001b[39;00m:\n\u001b[1;32m   1181\u001b[0m     infs \u001b[39m=\u001b[39m np\u001b[39m.\u001b[39misinf(df_or_array)\n",
      "\u001b[0;31mTypeError\u001b[0m: NaNs were detected in the dataset. Try using pd.isnull to find the problematic values."
     ]
    },
    {
     "data": {
      "image/png": "[encoded data removed]",
      "text/plain": [
       "<Figure size 500x500 with 1 Axes>"
      ]
     },
     "metadata": {},
     "output_type": "display_data"
    }
   ],
   "source": [
    "Length = np.array(Length)\n",
    "Status = np.array(Status)\n",
    "kmf = KaplanMeierFitter()\n",
    "f, ax = plt.subplots(figsize=(5, 5))\n",
    "for i, hr_dict in enumerate(HR):\n",
    "    subgroup_id = hr_dict['subgroup_id']\n",
    "    length_A, event_observed_A = (\n",
    "            Length[Subgroup_ids == subgroup_id],\n",
    "            Status[Subgroup_ids == subgroup_id],\n",
    "        )\n",
    "    label = \"S{} (N={})\".format(hr_dict[\"subgroup_id\"], np.sum(Subgroup_ids == subgroup_id))\n",
    "    kmf.fit(length_A, event_observed_A, label=label)\n",
    "    kmf.plot_survival_function(ax=ax, ci_show=False, color=color_palette[i],\n",
    "    show_censors=True,\n",
    "            censor_styles={\"ms\": 3, \"marker\": \"s\"})\n",
    "log_rank_test  = multivariate_logrank_test(\n",
    "        Length[Subgroup_ids!=0], Subgroup_ids[Subgroup_ids!=0],Status[Subgroup_ids!=0]\n",
    "    )\n",
    "p_value = log_rank_test.p_value\n",
    "ax.legend(ncol=2, fontsize = 10)\n",
    "ax.set_title(\"p-value = {:.5f}\".format(p_value), fontsize = 12)\n",
    "ax.set_xlabel(\"Time (Month)\", fontsize = 12)\n",
    "ax.set_ylabel(\"Survival (%)\", fontsize = 12)\n",
    "ax.set(\n",
    "        ylim=(-0.05, 1.05),\n",
    "    )\n",
    "sns.despine()"
   ]
  },
  {
   "cell_type": "code",
   "execution_count": null,
   "metadata": {},
   "outputs": [],
   "source": []
  }
 ],
 "metadata": {
  "kernelspec": {
   "display_name": "cell-gnn",
   "language": "python",
   "name": "python3"
  },
  "language_info": {
   "codemirror_mode": {
    "name": "ipython",
    "version": 3
   },
   "file_extension": ".py",
   "mimetype": "text/x-python",
   "name": "python",
   "nbconvert_exporter": "python",
   "pygments_lexer": "ipython3",
   "version": "3.8.10"
  }
 },
 "nbformat": 4,
 "nbformat_minor": 2
}
